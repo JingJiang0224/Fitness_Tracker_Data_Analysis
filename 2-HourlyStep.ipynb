{
 "cells": [
  {
   "cell_type": "code",
   "execution_count": 1,
   "id": "f881bfb9-536b-4db2-8437-b4f4fd4a4895",
   "metadata": {},
   "outputs": [],
   "source": [
    "import pandas as pd"
   ]
  },
  {
   "cell_type": "code",
   "execution_count": 2,
   "id": "d31fa575-c9b8-4d28-b639-8f1f5e68f9db",
   "metadata": {},
   "outputs": [],
   "source": [
    "hourlySteps = pd.read_csv('hourlySteps_merged.csv')"
   ]
  },
  {
   "cell_type": "code",
   "execution_count": 3,
   "id": "c6b9e96a-1036-4c86-8a97-46f3766e545c",
   "metadata": {},
   "outputs": [
    {
     "data": {
      "text/html": [
       "<div>\n",
       "<style scoped>\n",
       "    .dataframe tbody tr th:only-of-type {\n",
       "        vertical-align: middle;\n",
       "    }\n",
       "\n",
       "    .dataframe tbody tr th {\n",
       "        vertical-align: top;\n",
       "    }\n",
       "\n",
       "    .dataframe thead th {\n",
       "        text-align: right;\n",
       "    }\n",
       "</style>\n",
       "<table border=\"1\" class=\"dataframe\">\n",
       "  <thead>\n",
       "    <tr style=\"text-align: right;\">\n",
       "      <th></th>\n",
       "      <th>Id</th>\n",
       "      <th>ActivityHour</th>\n",
       "      <th>StepTotal</th>\n",
       "    </tr>\n",
       "  </thead>\n",
       "  <tbody>\n",
       "    <tr>\n",
       "      <th>0</th>\n",
       "      <td>1503960366</td>\n",
       "      <td>3/12/2016 12:00:00 AM</td>\n",
       "      <td>0</td>\n",
       "    </tr>\n",
       "    <tr>\n",
       "      <th>1</th>\n",
       "      <td>1503960366</td>\n",
       "      <td>3/12/2016 1:00:00 AM</td>\n",
       "      <td>0</td>\n",
       "    </tr>\n",
       "    <tr>\n",
       "      <th>2</th>\n",
       "      <td>1503960366</td>\n",
       "      <td>3/12/2016 2:00:00 AM</td>\n",
       "      <td>0</td>\n",
       "    </tr>\n",
       "    <tr>\n",
       "      <th>3</th>\n",
       "      <td>1503960366</td>\n",
       "      <td>3/12/2016 3:00:00 AM</td>\n",
       "      <td>0</td>\n",
       "    </tr>\n",
       "    <tr>\n",
       "      <th>4</th>\n",
       "      <td>1503960366</td>\n",
       "      <td>3/12/2016 4:00:00 AM</td>\n",
       "      <td>0</td>\n",
       "    </tr>\n",
       "  </tbody>\n",
       "</table>\n",
       "</div>"
      ],
      "text/plain": [
       "           Id           ActivityHour  StepTotal\n",
       "0  1503960366  3/12/2016 12:00:00 AM          0\n",
       "1  1503960366   3/12/2016 1:00:00 AM          0\n",
       "2  1503960366   3/12/2016 2:00:00 AM          0\n",
       "3  1503960366   3/12/2016 3:00:00 AM          0\n",
       "4  1503960366   3/12/2016 4:00:00 AM          0"
      ]
     },
     "execution_count": 3,
     "metadata": {},
     "output_type": "execute_result"
    }
   ],
   "source": [
    "hourlySteps.head()"
   ]
  },
  {
   "cell_type": "markdown",
   "id": "05674eb9-07df-41e1-890e-c9b764e467b3",
   "metadata": {},
   "source": [
    "## Check duplicated data"
   ]
  },
  {
   "cell_type": "code",
   "execution_count": 4,
   "id": "5df8c1e5-193c-49f5-b1f1-c77b59c66d4b",
   "metadata": {},
   "outputs": [],
   "source": [
    "duplicates_specific = hourlySteps.duplicated(subset=['Id', 'ActivityHour'])"
   ]
  },
  {
   "cell_type": "code",
   "execution_count": 5,
   "id": "1d8b3900-057e-422b-9734-e06caf43e4b9",
   "metadata": {},
   "outputs": [
    {
     "data": {
      "text/html": [
       "<div>\n",
       "<style scoped>\n",
       "    .dataframe tbody tr th:only-of-type {\n",
       "        vertical-align: middle;\n",
       "    }\n",
       "\n",
       "    .dataframe tbody tr th {\n",
       "        vertical-align: top;\n",
       "    }\n",
       "\n",
       "    .dataframe thead th {\n",
       "        text-align: right;\n",
       "    }\n",
       "</style>\n",
       "<table border=\"1\" class=\"dataframe\">\n",
       "  <thead>\n",
       "    <tr style=\"text-align: right;\">\n",
       "      <th></th>\n",
       "      <th>Id</th>\n",
       "      <th>ActivityHour</th>\n",
       "      <th>StepTotal</th>\n",
       "    </tr>\n",
       "  </thead>\n",
       "  <tbody>\n",
       "  </tbody>\n",
       "</table>\n",
       "</div>"
      ],
      "text/plain": [
       "Empty DataFrame\n",
       "Columns: [Id, ActivityHour, StepTotal]\n",
       "Index: []"
      ]
     },
     "execution_count": 5,
     "metadata": {},
     "output_type": "execute_result"
    }
   ],
   "source": [
    "# Get the duplicate rows\n",
    "hourlySteps[duplicates_specific]"
   ]
  },
  {
   "cell_type": "markdown",
   "id": "deef50a9-2a3c-4c5f-9356-d246e9530817",
   "metadata": {},
   "source": [
    "## Add Columns"
   ]
  },
  {
   "cell_type": "code",
   "execution_count": 9,
   "id": "ce3a01aa-7263-4a3f-82d1-c2be00aab7f7",
   "metadata": {},
   "outputs": [],
   "source": [
    "# Convert ActivityHour to datetime format\n",
    "hourlySteps['ActivityHour'] = pd.to_datetime(hourlySteps['ActivityHour'])\n",
    "\n",
    "# Extract date\n",
    "hourlySteps['Date'] = hourlySteps['ActivityHour'].dt.date\n",
    "\n",
    "# Extract day of the week\n",
    "hourlySteps['DayOfWeek'] = hourlySteps['ActivityHour'].dt.day_name()\n",
    "\n",
    "# Extract hour\n",
    "hourlySteps['Hour'] = hourlySteps['ActivityHour'].dt.hour"
   ]
  },
  {
   "cell_type": "code",
   "execution_count": 10,
   "id": "ef6a7506-eeee-48d1-9c60-a11a57d8c97c",
   "metadata": {},
   "outputs": [
    {
     "data": {
      "text/html": [
       "<div>\n",
       "<style scoped>\n",
       "    .dataframe tbody tr th:only-of-type {\n",
       "        vertical-align: middle;\n",
       "    }\n",
       "\n",
       "    .dataframe tbody tr th {\n",
       "        vertical-align: top;\n",
       "    }\n",
       "\n",
       "    .dataframe thead th {\n",
       "        text-align: right;\n",
       "    }\n",
       "</style>\n",
       "<table border=\"1\" class=\"dataframe\">\n",
       "  <thead>\n",
       "    <tr style=\"text-align: right;\">\n",
       "      <th></th>\n",
       "      <th>Id</th>\n",
       "      <th>ActivityHour</th>\n",
       "      <th>StepTotal</th>\n",
       "      <th>Date</th>\n",
       "      <th>DayOfWeek</th>\n",
       "      <th>Hour</th>\n",
       "    </tr>\n",
       "  </thead>\n",
       "  <tbody>\n",
       "    <tr>\n",
       "      <th>0</th>\n",
       "      <td>1503960366</td>\n",
       "      <td>2016-03-12 00:00:00</td>\n",
       "      <td>0</td>\n",
       "      <td>2016-03-12</td>\n",
       "      <td>Saturday</td>\n",
       "      <td>0</td>\n",
       "    </tr>\n",
       "    <tr>\n",
       "      <th>1</th>\n",
       "      <td>1503960366</td>\n",
       "      <td>2016-03-12 01:00:00</td>\n",
       "      <td>0</td>\n",
       "      <td>2016-03-12</td>\n",
       "      <td>Saturday</td>\n",
       "      <td>1</td>\n",
       "    </tr>\n",
       "    <tr>\n",
       "      <th>2</th>\n",
       "      <td>1503960366</td>\n",
       "      <td>2016-03-12 02:00:00</td>\n",
       "      <td>0</td>\n",
       "      <td>2016-03-12</td>\n",
       "      <td>Saturday</td>\n",
       "      <td>2</td>\n",
       "    </tr>\n",
       "    <tr>\n",
       "      <th>3</th>\n",
       "      <td>1503960366</td>\n",
       "      <td>2016-03-12 03:00:00</td>\n",
       "      <td>0</td>\n",
       "      <td>2016-03-12</td>\n",
       "      <td>Saturday</td>\n",
       "      <td>3</td>\n",
       "    </tr>\n",
       "    <tr>\n",
       "      <th>4</th>\n",
       "      <td>1503960366</td>\n",
       "      <td>2016-03-12 04:00:00</td>\n",
       "      <td>0</td>\n",
       "      <td>2016-03-12</td>\n",
       "      <td>Saturday</td>\n",
       "      <td>4</td>\n",
       "    </tr>\n",
       "  </tbody>\n",
       "</table>\n",
       "</div>"
      ],
      "text/plain": [
       "           Id        ActivityHour  StepTotal        Date DayOfWeek  Hour\n",
       "0  1503960366 2016-03-12 00:00:00          0  2016-03-12  Saturday     0\n",
       "1  1503960366 2016-03-12 01:00:00          0  2016-03-12  Saturday     1\n",
       "2  1503960366 2016-03-12 02:00:00          0  2016-03-12  Saturday     2\n",
       "3  1503960366 2016-03-12 03:00:00          0  2016-03-12  Saturday     3\n",
       "4  1503960366 2016-03-12 04:00:00          0  2016-03-12  Saturday     4"
      ]
     },
     "execution_count": 10,
     "metadata": {},
     "output_type": "execute_result"
    }
   ],
   "source": [
    "hourlySteps.head()"
   ]
  },
  {
   "cell_type": "code",
   "execution_count": 11,
   "id": "2df82f1a-93bd-4f16-90e7-0dbf10ea37d6",
   "metadata": {},
   "outputs": [
    {
     "data": {
      "text/plain": [
       "10565"
      ]
     },
     "execution_count": 11,
     "metadata": {},
     "output_type": "execute_result"
    }
   ],
   "source": [
    "hourlySteps['StepTotal'].max()"
   ]
  },
  {
   "cell_type": "code",
   "execution_count": 12,
   "id": "4a746a06-31dc-49dd-a337-f12d4ab25b2d",
   "metadata": {},
   "outputs": [],
   "source": [
    "hourlySteps.to_csv('hourlySteps_cleaned.csv', index=False)  "
   ]
  },
  {
   "cell_type": "code",
   "execution_count": null,
   "id": "1a591c04-726f-48a1-a9d4-f9caa7b49601",
   "metadata": {},
   "outputs": [],
   "source": []
  }
 ],
 "metadata": {
  "kernelspec": {
   "display_name": "Python 3 (ipykernel)",
   "language": "python",
   "name": "python3"
  },
  "language_info": {
   "codemirror_mode": {
    "name": "ipython",
    "version": 3
   },
   "file_extension": ".py",
   "mimetype": "text/x-python",
   "name": "python",
   "nbconvert_exporter": "python",
   "pygments_lexer": "ipython3",
   "version": "3.11.7"
  }
 },
 "nbformat": 4,
 "nbformat_minor": 5
}

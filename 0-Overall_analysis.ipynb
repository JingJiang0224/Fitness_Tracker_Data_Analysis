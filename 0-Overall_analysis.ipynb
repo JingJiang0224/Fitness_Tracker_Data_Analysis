{
 "cells": [
  {
   "cell_type": "code",
   "execution_count": 1,
   "id": "685d56be-8127-4a20-978c-8b5805918f5f",
   "metadata": {},
   "outputs": [],
   "source": [
    "import pandas as pd"
   ]
  },
  {
   "cell_type": "markdown",
   "id": "f50e177c-c325-4f89-bf7a-86433246d6af",
   "metadata": {},
   "source": [
    "### dailyActivity_merged"
   ]
  },
  {
   "cell_type": "code",
   "execution_count": 2,
   "id": "ea724382-d853-408d-b1f5-25cf7a11762f",
   "metadata": {},
   "outputs": [],
   "source": [
    "dailyActivity_merged = pd.read_csv('dailyActivity_merged.csv') "
   ]
  },
  {
   "cell_type": "code",
   "execution_count": 3,
   "id": "1459a4b7-b593-4755-a678-8579eceee464",
   "metadata": {},
   "outputs": [],
   "source": [
    "# Count the number of unique users\n",
    "num_users1 = dailyActivity_merged['Id'].nunique()"
   ]
  },
  {
   "cell_type": "code",
   "execution_count": 4,
   "id": "003a40e9-e1a6-48f3-8f2b-93f3e81f8bea",
   "metadata": {},
   "outputs": [
    {
     "data": {
      "text/plain": [
       "35"
      ]
     },
     "execution_count": 4,
     "metadata": {},
     "output_type": "execute_result"
    }
   ],
   "source": [
    "num_users1"
   ]
  },
  {
   "cell_type": "code",
   "execution_count": 19,
   "id": "4ad84238-f8a8-4c7e-8bcb-9cf78d5c058d",
   "metadata": {},
   "outputs": [
    {
     "data": {
      "text/plain": [
       "32"
      ]
     },
     "execution_count": 19,
     "metadata": {},
     "output_type": "execute_result"
    }
   ],
   "source": [
    "dailyActivity_merged['ActivityDate'].nunique()"
   ]
  },
  {
   "cell_type": "markdown",
   "id": "802d2c9e-a67c-4940-82b1-7feec103fd9b",
   "metadata": {},
   "source": [
    "### heartrate_seconds_merged"
   ]
  },
  {
   "cell_type": "code",
   "execution_count": 5,
   "id": "d0b33abb-6866-449c-8896-8e25a3f07304",
   "metadata": {},
   "outputs": [
    {
     "data": {
      "text/plain": [
       "14"
      ]
     },
     "execution_count": 5,
     "metadata": {},
     "output_type": "execute_result"
    }
   ],
   "source": [
    "heartrate_seconds_merged = pd.read_csv('heartrate_seconds_merged.csv') \n",
    "# Count the number of unique users\n",
    "num_users2 = heartrate_seconds_merged['Id'].nunique()\n",
    "num_users2"
   ]
  },
  {
   "cell_type": "code",
   "execution_count": 21,
   "id": "39af49fa-3cd9-4c07-985a-1d66bc1c33de",
   "metadata": {},
   "outputs": [
    {
     "data": {
      "text/html": [
       "<div>\n",
       "<style scoped>\n",
       "    .dataframe tbody tr th:only-of-type {\n",
       "        vertical-align: middle;\n",
       "    }\n",
       "\n",
       "    .dataframe tbody tr th {\n",
       "        vertical-align: top;\n",
       "    }\n",
       "\n",
       "    .dataframe thead th {\n",
       "        text-align: right;\n",
       "    }\n",
       "</style>\n",
       "<table border=\"1\" class=\"dataframe\">\n",
       "  <thead>\n",
       "    <tr style=\"text-align: right;\">\n",
       "      <th></th>\n",
       "      <th>Id</th>\n",
       "      <th>Time</th>\n",
       "      <th>Value</th>\n",
       "    </tr>\n",
       "  </thead>\n",
       "  <tbody>\n",
       "    <tr>\n",
       "      <th>0</th>\n",
       "      <td>2022484408</td>\n",
       "      <td>4/1/2016 7:54:00 AM</td>\n",
       "      <td>93</td>\n",
       "    </tr>\n",
       "    <tr>\n",
       "      <th>1</th>\n",
       "      <td>2022484408</td>\n",
       "      <td>4/1/2016 7:54:05 AM</td>\n",
       "      <td>91</td>\n",
       "    </tr>\n",
       "    <tr>\n",
       "      <th>2</th>\n",
       "      <td>2022484408</td>\n",
       "      <td>4/1/2016 7:54:10 AM</td>\n",
       "      <td>96</td>\n",
       "    </tr>\n",
       "    <tr>\n",
       "      <th>3</th>\n",
       "      <td>2022484408</td>\n",
       "      <td>4/1/2016 7:54:15 AM</td>\n",
       "      <td>98</td>\n",
       "    </tr>\n",
       "    <tr>\n",
       "      <th>4</th>\n",
       "      <td>2022484408</td>\n",
       "      <td>4/1/2016 7:54:20 AM</td>\n",
       "      <td>100</td>\n",
       "    </tr>\n",
       "  </tbody>\n",
       "</table>\n",
       "</div>"
      ],
      "text/plain": [
       "           Id                 Time  Value\n",
       "0  2022484408  4/1/2016 7:54:00 AM     93\n",
       "1  2022484408  4/1/2016 7:54:05 AM     91\n",
       "2  2022484408  4/1/2016 7:54:10 AM     96\n",
       "3  2022484408  4/1/2016 7:54:15 AM     98\n",
       "4  2022484408  4/1/2016 7:54:20 AM    100"
      ]
     },
     "execution_count": 21,
     "metadata": {},
     "output_type": "execute_result"
    }
   ],
   "source": [
    "heartrate_seconds_merged.head()"
   ]
  },
  {
   "cell_type": "markdown",
   "id": "7e6f9b32-7c9d-4f90-bd3d-1cb0bb638f1e",
   "metadata": {},
   "source": [
    "### hourlyCalories_merged"
   ]
  },
  {
   "cell_type": "code",
   "execution_count": 6,
   "id": "e4a0019b-92b4-4364-9aea-0982a5ff1de5",
   "metadata": {},
   "outputs": [
    {
     "data": {
      "text/plain": [
       "34"
      ]
     },
     "execution_count": 6,
     "metadata": {},
     "output_type": "execute_result"
    }
   ],
   "source": [
    "hourlyCalories_merged = pd.read_csv('hourlyCalories_merged.csv') \n",
    "# Count the number of unique users\n",
    "num_users3 = hourlyCalories_merged['Id'].nunique()\n",
    "num_users3"
   ]
  },
  {
   "cell_type": "code",
   "execution_count": 24,
   "id": "34deb863-9ce1-427e-ae30-64fbc9e4a909",
   "metadata": {},
   "outputs": [
    {
     "data": {
      "text/html": [
       "<div>\n",
       "<style scoped>\n",
       "    .dataframe tbody tr th:only-of-type {\n",
       "        vertical-align: middle;\n",
       "    }\n",
       "\n",
       "    .dataframe tbody tr th {\n",
       "        vertical-align: top;\n",
       "    }\n",
       "\n",
       "    .dataframe thead th {\n",
       "        text-align: right;\n",
       "    }\n",
       "</style>\n",
       "<table border=\"1\" class=\"dataframe\">\n",
       "  <thead>\n",
       "    <tr style=\"text-align: right;\">\n",
       "      <th></th>\n",
       "      <th>Id</th>\n",
       "      <th>ActivityHour</th>\n",
       "      <th>Calories</th>\n",
       "    </tr>\n",
       "  </thead>\n",
       "  <tbody>\n",
       "    <tr>\n",
       "      <th>0</th>\n",
       "      <td>1503960366</td>\n",
       "      <td>3/12/2016 12:00:00 AM</td>\n",
       "      <td>48</td>\n",
       "    </tr>\n",
       "    <tr>\n",
       "      <th>1</th>\n",
       "      <td>1503960366</td>\n",
       "      <td>3/12/2016 1:00:00 AM</td>\n",
       "      <td>48</td>\n",
       "    </tr>\n",
       "    <tr>\n",
       "      <th>2</th>\n",
       "      <td>1503960366</td>\n",
       "      <td>3/12/2016 2:00:00 AM</td>\n",
       "      <td>48</td>\n",
       "    </tr>\n",
       "    <tr>\n",
       "      <th>3</th>\n",
       "      <td>1503960366</td>\n",
       "      <td>3/12/2016 3:00:00 AM</td>\n",
       "      <td>48</td>\n",
       "    </tr>\n",
       "    <tr>\n",
       "      <th>4</th>\n",
       "      <td>1503960366</td>\n",
       "      <td>3/12/2016 4:00:00 AM</td>\n",
       "      <td>48</td>\n",
       "    </tr>\n",
       "  </tbody>\n",
       "</table>\n",
       "</div>"
      ],
      "text/plain": [
       "           Id           ActivityHour  Calories\n",
       "0  1503960366  3/12/2016 12:00:00 AM        48\n",
       "1  1503960366   3/12/2016 1:00:00 AM        48\n",
       "2  1503960366   3/12/2016 2:00:00 AM        48\n",
       "3  1503960366   3/12/2016 3:00:00 AM        48\n",
       "4  1503960366   3/12/2016 4:00:00 AM        48"
      ]
     },
     "execution_count": 24,
     "metadata": {},
     "output_type": "execute_result"
    }
   ],
   "source": [
    "hourlyCalories_merged.head()"
   ]
  },
  {
   "cell_type": "code",
   "execution_count": 26,
   "id": "005ac48d-f928-4e60-8350-29558490d46d",
   "metadata": {},
   "outputs": [
    {
     "name": "stderr",
     "output_type": "stream",
     "text": [
      "C:\\Users\\jingj\\AppData\\Local\\Temp\\ipykernel_35004\\2816662909.py:2: UserWarning: Could not infer format, so each element will be parsed individually, falling back to `dateutil`. To ensure parsing is consistent and as-expected, please specify a format.\n",
      "  t = pd.to_datetime(hourlyCalories_merged['ActivityHour'])\n"
     ]
    },
    {
     "data": {
      "text/plain": [
       "32"
      ]
     },
     "execution_count": 26,
     "metadata": {},
     "output_type": "execute_result"
    }
   ],
   "source": [
    "# Convert ActivityHour to datetime format\n",
    "t = pd.to_datetime(hourlyCalories_merged['ActivityHour'])\n",
    "\n",
    "# Extract the date part\n",
    "t.dt.date.nunique()"
   ]
  },
  {
   "cell_type": "markdown",
   "id": "b3e24152-ef3a-4048-bf10-4b924489fb5f",
   "metadata": {},
   "source": [
    "### hourlyIntensities_merged"
   ]
  },
  {
   "cell_type": "code",
   "execution_count": 8,
   "id": "01211094-9680-4950-abd5-6498687235c2",
   "metadata": {},
   "outputs": [
    {
     "data": {
      "text/plain": [
       "34"
      ]
     },
     "execution_count": 8,
     "metadata": {},
     "output_type": "execute_result"
    }
   ],
   "source": [
    "hourlyIntensities_merged = pd.read_csv('hourlyIntensities_merged.csv') \n",
    "# Count the number of unique users\n",
    "num_users4 = hourlyIntensities_merged['Id'].nunique()\n",
    "num_users4"
   ]
  },
  {
   "cell_type": "code",
   "execution_count": 27,
   "id": "a3f26855-6efa-421f-8e2a-484757fbc905",
   "metadata": {},
   "outputs": [
    {
     "data": {
      "text/html": [
       "<div>\n",
       "<style scoped>\n",
       "    .dataframe tbody tr th:only-of-type {\n",
       "        vertical-align: middle;\n",
       "    }\n",
       "\n",
       "    .dataframe tbody tr th {\n",
       "        vertical-align: top;\n",
       "    }\n",
       "\n",
       "    .dataframe thead th {\n",
       "        text-align: right;\n",
       "    }\n",
       "</style>\n",
       "<table border=\"1\" class=\"dataframe\">\n",
       "  <thead>\n",
       "    <tr style=\"text-align: right;\">\n",
       "      <th></th>\n",
       "      <th>Id</th>\n",
       "      <th>ActivityHour</th>\n",
       "      <th>TotalIntensity</th>\n",
       "      <th>AverageIntensity</th>\n",
       "    </tr>\n",
       "  </thead>\n",
       "  <tbody>\n",
       "    <tr>\n",
       "      <th>0</th>\n",
       "      <td>1503960366</td>\n",
       "      <td>3/12/2016 12:00:00 AM</td>\n",
       "      <td>0</td>\n",
       "      <td>0.0</td>\n",
       "    </tr>\n",
       "    <tr>\n",
       "      <th>1</th>\n",
       "      <td>1503960366</td>\n",
       "      <td>3/12/2016 1:00:00 AM</td>\n",
       "      <td>0</td>\n",
       "      <td>0.0</td>\n",
       "    </tr>\n",
       "    <tr>\n",
       "      <th>2</th>\n",
       "      <td>1503960366</td>\n",
       "      <td>3/12/2016 2:00:00 AM</td>\n",
       "      <td>0</td>\n",
       "      <td>0.0</td>\n",
       "    </tr>\n",
       "    <tr>\n",
       "      <th>3</th>\n",
       "      <td>1503960366</td>\n",
       "      <td>3/12/2016 3:00:00 AM</td>\n",
       "      <td>0</td>\n",
       "      <td>0.0</td>\n",
       "    </tr>\n",
       "    <tr>\n",
       "      <th>4</th>\n",
       "      <td>1503960366</td>\n",
       "      <td>3/12/2016 4:00:00 AM</td>\n",
       "      <td>0</td>\n",
       "      <td>0.0</td>\n",
       "    </tr>\n",
       "  </tbody>\n",
       "</table>\n",
       "</div>"
      ],
      "text/plain": [
       "           Id           ActivityHour  TotalIntensity  AverageIntensity\n",
       "0  1503960366  3/12/2016 12:00:00 AM               0               0.0\n",
       "1  1503960366   3/12/2016 1:00:00 AM               0               0.0\n",
       "2  1503960366   3/12/2016 2:00:00 AM               0               0.0\n",
       "3  1503960366   3/12/2016 3:00:00 AM               0               0.0\n",
       "4  1503960366   3/12/2016 4:00:00 AM               0               0.0"
      ]
     },
     "execution_count": 27,
     "metadata": {},
     "output_type": "execute_result"
    }
   ],
   "source": [
    "hourlyIntensities_merged.head()"
   ]
  },
  {
   "cell_type": "code",
   "execution_count": 28,
   "id": "0c98a4bc-3f12-46fc-8857-c78c0eb0d868",
   "metadata": {},
   "outputs": [
    {
     "name": "stderr",
     "output_type": "stream",
     "text": [
      "C:\\Users\\jingj\\AppData\\Local\\Temp\\ipykernel_35004\\2368805591.py:2: UserWarning: Could not infer format, so each element will be parsed individually, falling back to `dateutil`. To ensure parsing is consistent and as-expected, please specify a format.\n",
      "  t = pd.to_datetime(hourlyIntensities_merged['ActivityHour'])\n"
     ]
    },
    {
     "data": {
      "text/plain": [
       "32"
      ]
     },
     "execution_count": 28,
     "metadata": {},
     "output_type": "execute_result"
    }
   ],
   "source": [
    "# Convert ActivityHour to datetime format\n",
    "t = pd.to_datetime(hourlyIntensities_merged['ActivityHour'])\n",
    "\n",
    "# Extract the date part\n",
    "t.dt.date.nunique()"
   ]
  },
  {
   "cell_type": "markdown",
   "id": "1739a926-5b2a-4442-9f8d-fa4af20ae14b",
   "metadata": {},
   "source": [
    "### hourlySteps_merged"
   ]
  },
  {
   "cell_type": "code",
   "execution_count": 9,
   "id": "341883db-bda9-473b-af4a-bda72509dd6b",
   "metadata": {},
   "outputs": [
    {
     "data": {
      "text/plain": [
       "34"
      ]
     },
     "execution_count": 9,
     "metadata": {},
     "output_type": "execute_result"
    }
   ],
   "source": [
    "hourlySteps_merged = pd.read_csv('hourlySteps_merged.csv') \n",
    "# Count the number of unique users\n",
    "num_users5 = hourlySteps_merged['Id'].nunique()\n",
    "num_users5"
   ]
  },
  {
   "cell_type": "code",
   "execution_count": 29,
   "id": "8bd4cefa-8939-45af-bb01-7d37cedcee9b",
   "metadata": {},
   "outputs": [
    {
     "data": {
      "text/html": [
       "<div>\n",
       "<style scoped>\n",
       "    .dataframe tbody tr th:only-of-type {\n",
       "        vertical-align: middle;\n",
       "    }\n",
       "\n",
       "    .dataframe tbody tr th {\n",
       "        vertical-align: top;\n",
       "    }\n",
       "\n",
       "    .dataframe thead th {\n",
       "        text-align: right;\n",
       "    }\n",
       "</style>\n",
       "<table border=\"1\" class=\"dataframe\">\n",
       "  <thead>\n",
       "    <tr style=\"text-align: right;\">\n",
       "      <th></th>\n",
       "      <th>Id</th>\n",
       "      <th>ActivityHour</th>\n",
       "      <th>StepTotal</th>\n",
       "    </tr>\n",
       "  </thead>\n",
       "  <tbody>\n",
       "    <tr>\n",
       "      <th>0</th>\n",
       "      <td>1503960366</td>\n",
       "      <td>3/12/2016 12:00:00 AM</td>\n",
       "      <td>0</td>\n",
       "    </tr>\n",
       "    <tr>\n",
       "      <th>1</th>\n",
       "      <td>1503960366</td>\n",
       "      <td>3/12/2016 1:00:00 AM</td>\n",
       "      <td>0</td>\n",
       "    </tr>\n",
       "    <tr>\n",
       "      <th>2</th>\n",
       "      <td>1503960366</td>\n",
       "      <td>3/12/2016 2:00:00 AM</td>\n",
       "      <td>0</td>\n",
       "    </tr>\n",
       "    <tr>\n",
       "      <th>3</th>\n",
       "      <td>1503960366</td>\n",
       "      <td>3/12/2016 3:00:00 AM</td>\n",
       "      <td>0</td>\n",
       "    </tr>\n",
       "    <tr>\n",
       "      <th>4</th>\n",
       "      <td>1503960366</td>\n",
       "      <td>3/12/2016 4:00:00 AM</td>\n",
       "      <td>0</td>\n",
       "    </tr>\n",
       "  </tbody>\n",
       "</table>\n",
       "</div>"
      ],
      "text/plain": [
       "           Id           ActivityHour  StepTotal\n",
       "0  1503960366  3/12/2016 12:00:00 AM          0\n",
       "1  1503960366   3/12/2016 1:00:00 AM          0\n",
       "2  1503960366   3/12/2016 2:00:00 AM          0\n",
       "3  1503960366   3/12/2016 3:00:00 AM          0\n",
       "4  1503960366   3/12/2016 4:00:00 AM          0"
      ]
     },
     "execution_count": 29,
     "metadata": {},
     "output_type": "execute_result"
    }
   ],
   "source": [
    "hourlySteps_merged.head()"
   ]
  },
  {
   "cell_type": "code",
   "execution_count": 30,
   "id": "365eadb5-4398-404a-a4a9-01a8cf1c6e82",
   "metadata": {},
   "outputs": [
    {
     "name": "stderr",
     "output_type": "stream",
     "text": [
      "C:\\Users\\jingj\\AppData\\Local\\Temp\\ipykernel_35004\\450872632.py:2: UserWarning: Could not infer format, so each element will be parsed individually, falling back to `dateutil`. To ensure parsing is consistent and as-expected, please specify a format.\n",
      "  t = pd.to_datetime(hourlySteps_merged['ActivityHour'])\n"
     ]
    },
    {
     "data": {
      "text/plain": [
       "32"
      ]
     },
     "execution_count": 30,
     "metadata": {},
     "output_type": "execute_result"
    }
   ],
   "source": [
    "# Convert ActivityHour to datetime format\n",
    "t = pd.to_datetime(hourlySteps_merged['ActivityHour'])\n",
    "\n",
    "# Extract the date part\n",
    "t.dt.date.nunique()"
   ]
  },
  {
   "cell_type": "markdown",
   "id": "672bd7d4-77c3-4ef8-802e-bccddcf36ffa",
   "metadata": {},
   "source": [
    "### minuteCaloriesNarrow_merged"
   ]
  },
  {
   "cell_type": "code",
   "execution_count": 10,
   "id": "87ce887e-04f0-4d84-899b-4e12c4f90590",
   "metadata": {},
   "outputs": [
    {
     "data": {
      "text/plain": [
       "34"
      ]
     },
     "execution_count": 10,
     "metadata": {},
     "output_type": "execute_result"
    }
   ],
   "source": [
    "minuteCaloriesNarrow_merged = pd.read_csv('minuteCaloriesNarrow_merged.csv') \n",
    "# Count the number of unique users\n",
    "num_users6 = minuteCaloriesNarrow_merged['Id'].nunique()\n",
    "num_users6"
   ]
  },
  {
   "cell_type": "markdown",
   "id": "f746030d-8d9c-4f0c-a398-bbdae21c43fd",
   "metadata": {},
   "source": [
    "### minuteIntensitiesNarrow_merged"
   ]
  },
  {
   "cell_type": "code",
   "execution_count": 11,
   "id": "5da369ba-fcbe-4580-9730-f9e5ec6a0d02",
   "metadata": {},
   "outputs": [
    {
     "data": {
      "text/plain": [
       "34"
      ]
     },
     "execution_count": 11,
     "metadata": {},
     "output_type": "execute_result"
    }
   ],
   "source": [
    "minuteIntensitiesNarrow_merged = pd.read_csv('minuteIntensitiesNarrow_merged.csv') \n",
    "# Count the number of unique users\n",
    "num_users7 = minuteIntensitiesNarrow_merged['Id'].nunique()\n",
    "num_users7"
   ]
  },
  {
   "cell_type": "markdown",
   "id": "4e5e117a-e681-4e12-8631-97b70987e7d5",
   "metadata": {},
   "source": [
    "### minuteMETsNarrow_merged"
   ]
  },
  {
   "cell_type": "code",
   "execution_count": 12,
   "id": "562e2686-cbba-4f44-b11d-0c079e91bd72",
   "metadata": {},
   "outputs": [
    {
     "data": {
      "text/plain": [
       "34"
      ]
     },
     "execution_count": 12,
     "metadata": {},
     "output_type": "execute_result"
    }
   ],
   "source": [
    "minuteMETsNarrow_merged = pd.read_csv('minuteMETsNarrow_merged.csv') \n",
    "# Count the number of unique users\n",
    "num_users8 = minuteMETsNarrow_merged['Id'].nunique()\n",
    "num_users8"
   ]
  },
  {
   "cell_type": "markdown",
   "id": "50b9d1ce-07bc-45c7-a209-cb50549d039b",
   "metadata": {},
   "source": [
    "### minuteSleep_merged"
   ]
  },
  {
   "cell_type": "code",
   "execution_count": 13,
   "id": "36089e0d-5ad8-4f25-8cbc-c074c9196aa2",
   "metadata": {},
   "outputs": [
    {
     "data": {
      "text/plain": [
       "23"
      ]
     },
     "execution_count": 13,
     "metadata": {},
     "output_type": "execute_result"
    }
   ],
   "source": [
    "minuteSleep_merged = pd.read_csv('minuteSleep_merged.csv') \n",
    "# Count the number of unique users\n",
    "num_users9 = minuteSleep_merged['Id'].nunique()\n",
    "num_users9"
   ]
  },
  {
   "cell_type": "markdown",
   "id": "f6fe2a22-19fd-43b8-92bc-3d7be069c1ba",
   "metadata": {},
   "source": [
    "### minuteStepsNarrow_merged"
   ]
  },
  {
   "cell_type": "code",
   "execution_count": 14,
   "id": "db3c012e-359f-4a94-ba2c-77eb7b889093",
   "metadata": {},
   "outputs": [
    {
     "data": {
      "text/plain": [
       "34"
      ]
     },
     "execution_count": 14,
     "metadata": {},
     "output_type": "execute_result"
    }
   ],
   "source": [
    "minuteStepsNarrow_merged = pd.read_csv('minuteStepsNarrow_merged.csv') \n",
    "# Count the number of unique users\n",
    "num_users10 = minuteStepsNarrow_merged['Id'].nunique()\n",
    "num_users10"
   ]
  },
  {
   "cell_type": "markdown",
   "id": "55dd6866-0f0d-4848-993a-61534d55e21c",
   "metadata": {},
   "source": [
    "### weightLogInfo_merged"
   ]
  },
  {
   "cell_type": "code",
   "execution_count": 15,
   "id": "f0da8016-ad03-4cb6-9ee6-4f4f72cb30bf",
   "metadata": {},
   "outputs": [
    {
     "data": {
      "text/plain": [
       "11"
      ]
     },
     "execution_count": 15,
     "metadata": {},
     "output_type": "execute_result"
    }
   ],
   "source": [
    "weightLogInfo_merged = pd.read_csv('weightLogInfo_merged.csv') \n",
    "# Count the number of unique users\n",
    "num_users11 = weightLogInfo_merged['Id'].nunique()\n",
    "num_users11"
   ]
  },
  {
   "cell_type": "markdown",
   "id": "80a6ddaf-0178-49f0-94df-5dab2786c92b",
   "metadata": {},
   "source": [
    "## The dataset that will be used in this project:\n",
    "- weightLogInfo_merged\n",
    "- hourlyCalories_merged\n",
    "- hourlyIntensities_merged\n",
    "- hourlySteps_merged"
   ]
  },
  {
   "cell_type": "code",
   "execution_count": 58,
   "id": "266ab8ff-3454-4054-919f-1a0dbea0429f",
   "metadata": {},
   "outputs": [],
   "source": [
    "df1 = dailyActivity_merged[['Id', 'ActivityDate']]\n",
    "df2 = hourlyCalories_merged\n",
    "\n",
    "merged_df1 = pd.merge(df1, df2, on='Id', how='left', suffixes=('', '_right'))"
   ]
  },
  {
   "cell_type": "code",
   "execution_count": 60,
   "id": "5e0d650a-ce63-48aa-b7fb-d7bf22e0340c",
   "metadata": {},
   "outputs": [
    {
     "data": {
      "text/html": [
       "<div>\n",
       "<style scoped>\n",
       "    .dataframe tbody tr th:only-of-type {\n",
       "        vertical-align: middle;\n",
       "    }\n",
       "\n",
       "    .dataframe tbody tr th {\n",
       "        vertical-align: top;\n",
       "    }\n",
       "\n",
       "    .dataframe thead th {\n",
       "        text-align: right;\n",
       "    }\n",
       "</style>\n",
       "<table border=\"1\" class=\"dataframe\">\n",
       "  <thead>\n",
       "    <tr style=\"text-align: right;\">\n",
       "      <th></th>\n",
       "      <th>Id</th>\n",
       "      <th>ActivityDate</th>\n",
       "      <th>ActivityHour</th>\n",
       "      <th>Calories</th>\n",
       "    </tr>\n",
       "  </thead>\n",
       "  <tbody>\n",
       "    <tr>\n",
       "      <th>0</th>\n",
       "      <td>1503960366</td>\n",
       "      <td>3/25/2016</td>\n",
       "      <td>3/12/2016 12:00:00 AM</td>\n",
       "      <td>48.0</td>\n",
       "    </tr>\n",
       "    <tr>\n",
       "      <th>1</th>\n",
       "      <td>1503960366</td>\n",
       "      <td>3/25/2016</td>\n",
       "      <td>3/12/2016 1:00:00 AM</td>\n",
       "      <td>48.0</td>\n",
       "    </tr>\n",
       "    <tr>\n",
       "      <th>2</th>\n",
       "      <td>1503960366</td>\n",
       "      <td>3/25/2016</td>\n",
       "      <td>3/12/2016 2:00:00 AM</td>\n",
       "      <td>48.0</td>\n",
       "    </tr>\n",
       "    <tr>\n",
       "      <th>3</th>\n",
       "      <td>1503960366</td>\n",
       "      <td>3/25/2016</td>\n",
       "      <td>3/12/2016 3:00:00 AM</td>\n",
       "      <td>48.0</td>\n",
       "    </tr>\n",
       "    <tr>\n",
       "      <th>4</th>\n",
       "      <td>1503960366</td>\n",
       "      <td>3/25/2016</td>\n",
       "      <td>3/12/2016 4:00:00 AM</td>\n",
       "      <td>48.0</td>\n",
       "    </tr>\n",
       "  </tbody>\n",
       "</table>\n",
       "</div>"
      ],
      "text/plain": [
       "           Id ActivityDate           ActivityHour  Calories\n",
       "0  1503960366    3/25/2016  3/12/2016 12:00:00 AM      48.0\n",
       "1  1503960366    3/25/2016   3/12/2016 1:00:00 AM      48.0\n",
       "2  1503960366    3/25/2016   3/12/2016 2:00:00 AM      48.0\n",
       "3  1503960366    3/25/2016   3/12/2016 3:00:00 AM      48.0\n",
       "4  1503960366    3/25/2016   3/12/2016 4:00:00 AM      48.0"
      ]
     },
     "execution_count": 60,
     "metadata": {},
     "output_type": "execute_result"
    }
   ],
   "source": [
    "merged_df1.head()"
   ]
  },
  {
   "cell_type": "code",
   "execution_count": 53,
   "id": "9ef47a4b-96ff-45c8-b107-47282445a596",
   "metadata": {},
   "outputs": [
    {
     "data": {
      "text/html": [
       "<div>\n",
       "<style scoped>\n",
       "    .dataframe tbody tr th:only-of-type {\n",
       "        vertical-align: middle;\n",
       "    }\n",
       "\n",
       "    .dataframe tbody tr th {\n",
       "        vertical-align: top;\n",
       "    }\n",
       "\n",
       "    .dataframe thead th {\n",
       "        text-align: right;\n",
       "    }\n",
       "</style>\n",
       "<table border=\"1\" class=\"dataframe\">\n",
       "  <thead>\n",
       "    <tr style=\"text-align: right;\">\n",
       "      <th></th>\n",
       "      <th>Id</th>\n",
       "    </tr>\n",
       "  </thead>\n",
       "  <tbody>\n",
       "    <tr>\n",
       "      <th>0</th>\n",
       "      <td>1503960366</td>\n",
       "    </tr>\n",
       "    <tr>\n",
       "      <th>1</th>\n",
       "      <td>1624580081</td>\n",
       "    </tr>\n",
       "    <tr>\n",
       "      <th>2</th>\n",
       "      <td>1644430081</td>\n",
       "    </tr>\n",
       "    <tr>\n",
       "      <th>3</th>\n",
       "      <td>1844505072</td>\n",
       "    </tr>\n",
       "    <tr>\n",
       "      <th>4</th>\n",
       "      <td>1927972279</td>\n",
       "    </tr>\n",
       "    <tr>\n",
       "      <th>5</th>\n",
       "      <td>2022484408</td>\n",
       "    </tr>\n",
       "    <tr>\n",
       "      <th>6</th>\n",
       "      <td>2026352035</td>\n",
       "    </tr>\n",
       "    <tr>\n",
       "      <th>7</th>\n",
       "      <td>2320127002</td>\n",
       "    </tr>\n",
       "    <tr>\n",
       "      <th>8</th>\n",
       "      <td>2347167796</td>\n",
       "    </tr>\n",
       "    <tr>\n",
       "      <th>9</th>\n",
       "      <td>2873212765</td>\n",
       "    </tr>\n",
       "    <tr>\n",
       "      <th>10</th>\n",
       "      <td>2891001357</td>\n",
       "    </tr>\n",
       "    <tr>\n",
       "      <th>11</th>\n",
       "      <td>3372868164</td>\n",
       "    </tr>\n",
       "    <tr>\n",
       "      <th>12</th>\n",
       "      <td>3977333714</td>\n",
       "    </tr>\n",
       "    <tr>\n",
       "      <th>13</th>\n",
       "      <td>4020332650</td>\n",
       "    </tr>\n",
       "    <tr>\n",
       "      <th>14</th>\n",
       "      <td>4057192912</td>\n",
       "    </tr>\n",
       "    <tr>\n",
       "      <th>15</th>\n",
       "      <td>4319703577</td>\n",
       "    </tr>\n",
       "    <tr>\n",
       "      <th>16</th>\n",
       "      <td>4388161847</td>\n",
       "    </tr>\n",
       "    <tr>\n",
       "      <th>17</th>\n",
       "      <td>4445114986</td>\n",
       "    </tr>\n",
       "    <tr>\n",
       "      <th>18</th>\n",
       "      <td>4558609924</td>\n",
       "    </tr>\n",
       "    <tr>\n",
       "      <th>19</th>\n",
       "      <td>4702921684</td>\n",
       "    </tr>\n",
       "    <tr>\n",
       "      <th>20</th>\n",
       "      <td>5553957443</td>\n",
       "    </tr>\n",
       "    <tr>\n",
       "      <th>21</th>\n",
       "      <td>5577150313</td>\n",
       "    </tr>\n",
       "    <tr>\n",
       "      <th>22</th>\n",
       "      <td>6117666160</td>\n",
       "    </tr>\n",
       "    <tr>\n",
       "      <th>23</th>\n",
       "      <td>6290855005</td>\n",
       "    </tr>\n",
       "    <tr>\n",
       "      <th>24</th>\n",
       "      <td>6391747486</td>\n",
       "    </tr>\n",
       "    <tr>\n",
       "      <th>25</th>\n",
       "      <td>6775888955</td>\n",
       "    </tr>\n",
       "    <tr>\n",
       "      <th>26</th>\n",
       "      <td>6962181067</td>\n",
       "    </tr>\n",
       "    <tr>\n",
       "      <th>27</th>\n",
       "      <td>7007744171</td>\n",
       "    </tr>\n",
       "    <tr>\n",
       "      <th>28</th>\n",
       "      <td>7086361926</td>\n",
       "    </tr>\n",
       "    <tr>\n",
       "      <th>29</th>\n",
       "      <td>8053475328</td>\n",
       "    </tr>\n",
       "    <tr>\n",
       "      <th>30</th>\n",
       "      <td>8253242879</td>\n",
       "    </tr>\n",
       "    <tr>\n",
       "      <th>31</th>\n",
       "      <td>8378563200</td>\n",
       "    </tr>\n",
       "    <tr>\n",
       "      <th>32</th>\n",
       "      <td>8583815059</td>\n",
       "    </tr>\n",
       "    <tr>\n",
       "      <th>33</th>\n",
       "      <td>8792009665</td>\n",
       "    </tr>\n",
       "    <tr>\n",
       "      <th>34</th>\n",
       "      <td>8877689391</td>\n",
       "    </tr>\n",
       "  </tbody>\n",
       "</table>\n",
       "</div>"
      ],
      "text/plain": [
       "            Id\n",
       "0   1503960366\n",
       "1   1624580081\n",
       "2   1644430081\n",
       "3   1844505072\n",
       "4   1927972279\n",
       "5   2022484408\n",
       "6   2026352035\n",
       "7   2320127002\n",
       "8   2347167796\n",
       "9   2873212765\n",
       "10  2891001357\n",
       "11  3372868164\n",
       "12  3977333714\n",
       "13  4020332650\n",
       "14  4057192912\n",
       "15  4319703577\n",
       "16  4388161847\n",
       "17  4445114986\n",
       "18  4558609924\n",
       "19  4702921684\n",
       "20  5553957443\n",
       "21  5577150313\n",
       "22  6117666160\n",
       "23  6290855005\n",
       "24  6391747486\n",
       "25  6775888955\n",
       "26  6962181067\n",
       "27  7007744171\n",
       "28  7086361926\n",
       "29  8053475328\n",
       "30  8253242879\n",
       "31  8378563200\n",
       "32  8583815059\n",
       "33  8792009665\n",
       "34  8877689391"
      ]
     },
     "execution_count": 53,
     "metadata": {},
     "output_type": "execute_result"
    }
   ],
   "source": [
    "merged_df1['Calories'].isnull()]"
   ]
  },
  {
   "cell_type": "code",
   "execution_count": 59,
   "id": "178b17f1-395a-427c-a3f4-0bc0d9619c16",
   "metadata": {},
   "outputs": [
    {
     "data": {
      "text/html": [
       "<div>\n",
       "<style scoped>\n",
       "    .dataframe tbody tr th:only-of-type {\n",
       "        vertical-align: middle;\n",
       "    }\n",
       "\n",
       "    .dataframe tbody tr th {\n",
       "        vertical-align: top;\n",
       "    }\n",
       "\n",
       "    .dataframe thead th {\n",
       "        text-align: right;\n",
       "    }\n",
       "</style>\n",
       "<table border=\"1\" class=\"dataframe\">\n",
       "  <thead>\n",
       "    <tr style=\"text-align: right;\">\n",
       "      <th></th>\n",
       "      <th>Id</th>\n",
       "      <th>ActivityDate</th>\n",
       "      <th>ActivityHour</th>\n",
       "      <th>Calories</th>\n",
       "    </tr>\n",
       "  </thead>\n",
       "  <tbody>\n",
       "    <tr>\n",
       "      <th>0</th>\n",
       "      <td>1503960366</td>\n",
       "      <td>3/25/2016</td>\n",
       "      <td>3/12/2016 12:00:00 AM</td>\n",
       "      <td>48.0</td>\n",
       "    </tr>\n",
       "    <tr>\n",
       "      <th>1</th>\n",
       "      <td>1503960366</td>\n",
       "      <td>3/25/2016</td>\n",
       "      <td>3/12/2016 1:00:00 AM</td>\n",
       "      <td>48.0</td>\n",
       "    </tr>\n",
       "    <tr>\n",
       "      <th>2</th>\n",
       "      <td>1503960366</td>\n",
       "      <td>3/25/2016</td>\n",
       "      <td>3/12/2016 2:00:00 AM</td>\n",
       "      <td>48.0</td>\n",
       "    </tr>\n",
       "    <tr>\n",
       "      <th>3</th>\n",
       "      <td>1503960366</td>\n",
       "      <td>3/25/2016</td>\n",
       "      <td>3/12/2016 3:00:00 AM</td>\n",
       "      <td>48.0</td>\n",
       "    </tr>\n",
       "    <tr>\n",
       "      <th>4</th>\n",
       "      <td>1503960366</td>\n",
       "      <td>3/25/2016</td>\n",
       "      <td>3/12/2016 4:00:00 AM</td>\n",
       "      <td>48.0</td>\n",
       "    </tr>\n",
       "    <tr>\n",
       "      <th>...</th>\n",
       "      <td>...</td>\n",
       "      <td>...</td>\n",
       "      <td>...</td>\n",
       "      <td>...</td>\n",
       "    </tr>\n",
       "    <tr>\n",
       "      <th>324212</th>\n",
       "      <td>8877689391</td>\n",
       "      <td>4/12/2016</td>\n",
       "      <td>4/12/2016 4:00:00 AM</td>\n",
       "      <td>73.0</td>\n",
       "    </tr>\n",
       "    <tr>\n",
       "      <th>324213</th>\n",
       "      <td>8877689391</td>\n",
       "      <td>4/12/2016</td>\n",
       "      <td>4/12/2016 5:00:00 AM</td>\n",
       "      <td>73.0</td>\n",
       "    </tr>\n",
       "    <tr>\n",
       "      <th>324214</th>\n",
       "      <td>8877689391</td>\n",
       "      <td>4/12/2016</td>\n",
       "      <td>4/12/2016 6:00:00 AM</td>\n",
       "      <td>96.0</td>\n",
       "    </tr>\n",
       "    <tr>\n",
       "      <th>324215</th>\n",
       "      <td>8877689391</td>\n",
       "      <td>4/12/2016</td>\n",
       "      <td>4/12/2016 7:00:00 AM</td>\n",
       "      <td>169.0</td>\n",
       "    </tr>\n",
       "    <tr>\n",
       "      <th>324216</th>\n",
       "      <td>8877689391</td>\n",
       "      <td>4/12/2016</td>\n",
       "      <td>4/12/2016 8:00:00 AM</td>\n",
       "      <td>136.0</td>\n",
       "    </tr>\n",
       "  </tbody>\n",
       "</table>\n",
       "<p>324217 rows × 4 columns</p>\n",
       "</div>"
      ],
      "text/plain": [
       "                Id ActivityDate           ActivityHour  Calories\n",
       "0       1503960366    3/25/2016  3/12/2016 12:00:00 AM      48.0\n",
       "1       1503960366    3/25/2016   3/12/2016 1:00:00 AM      48.0\n",
       "2       1503960366    3/25/2016   3/12/2016 2:00:00 AM      48.0\n",
       "3       1503960366    3/25/2016   3/12/2016 3:00:00 AM      48.0\n",
       "4       1503960366    3/25/2016   3/12/2016 4:00:00 AM      48.0\n",
       "...            ...          ...                    ...       ...\n",
       "324212  8877689391    4/12/2016   4/12/2016 4:00:00 AM      73.0\n",
       "324213  8877689391    4/12/2016   4/12/2016 5:00:00 AM      73.0\n",
       "324214  8877689391    4/12/2016   4/12/2016 6:00:00 AM      96.0\n",
       "324215  8877689391    4/12/2016   4/12/2016 7:00:00 AM     169.0\n",
       "324216  8877689391    4/12/2016   4/12/2016 8:00:00 AM     136.0\n",
       "\n",
       "[324217 rows x 4 columns]"
      ]
     },
     "execution_count": 59,
     "metadata": {},
     "output_type": "execute_result"
    }
   ],
   "source": [
    "merged_df1"
   ]
  },
  {
   "cell_type": "code",
   "execution_count": null,
   "id": "76e45ccb-3bb2-4ccb-83f4-297dbba8b16a",
   "metadata": {},
   "outputs": [],
   "source": []
  }
 ],
 "metadata": {
  "kernelspec": {
   "display_name": "Python 3 (ipykernel)",
   "language": "python",
   "name": "python3"
  },
  "language_info": {
   "codemirror_mode": {
    "name": "ipython",
    "version": 3
   },
   "file_extension": ".py",
   "mimetype": "text/x-python",
   "name": "python",
   "nbconvert_exporter": "python",
   "pygments_lexer": "ipython3",
   "version": "3.11.7"
  }
 },
 "nbformat": 4,
 "nbformat_minor": 5
}
